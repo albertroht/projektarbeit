{
 "cells": [
  {
   "cell_type": "markdown",
   "metadata": {},
   "source": [
    "\n",
    "In this notebook we first create temporal clusters from a given set of images. Then we look at each temporal cluster and analyse the image similarity by using a high dimensional vector given by a CNN. The vectors of all images inside a temporal cluster are fed into a DBSCAN algorithm. By using the cosine similarity as a metric we can determine which images are similar. This way we create new near duplicate clusters that are similar in time and content."
   ]
  },
  {
   "cell_type": "markdown",
   "metadata": {},
   "source": [
    "**First section: Time based clustering of images using a similarity matrix and a novelty score**    "
   ]
  },
  {
   "cell_type": "code",
   "execution_count": 3,
   "metadata": {},
   "outputs": [],
   "source": [
    "import numpy as np\n",
    "import matplotlib\n",
    "import matplotlib.pyplot as plt\n",
    "import pandas as pd\n",
    "from urllib.request import urlopen\n",
    "from NearDuplicateCluster import NearDuplicateCluster\n",
    "from GalleryImage import Base, GalleryImage\n",
    "from TemporalCluster import TemporalCluster\n",
    "from scipy.signal import find_peaks\n",
    "from ReadImageData import readImagesFromCSV, readImagesFromDirectory, get_list_of_timestamps, transform_datetime_to_timestamp\n",
    "import cv2\n",
    "import os\n",
    "from sqlalchemy import create_engine\n",
    "from sqlalchemy.orm import sessionmaker\n",
    "import math\n",
    "\n",
    "%load_ext autoreload\n",
    "%autoreload 2"
   ]
  },
  {
   "cell_type": "markdown",
   "metadata": {},
   "source": [
    "First we need a set of images to work with. We are using an album of 500 images from Flickr that depict a vacation in Costa Rica."
   ]
  },
  {
   "cell_type": "code",
   "execution_count": null,
   "metadata": {},
   "outputs": [],
   "source": [
    "with open(\"costa rica.txt\") as f:\n",
    "    image_URLs = f.readlines()\n",
    "    image_URLs = [x.strip() for x in image_URLs] "
   ]
  },
  {
   "cell_type": "code",
   "execution_count": null,
   "metadata": {},
   "outputs": [],
   "source": [
    "# Loading a single image\n",
    "img = Image.open(urlopen(image_URLs[1]))"
   ]
  },
  {
   "cell_type": "markdown",
   "metadata": {},
   "source": [
    "To start the temporal clustering we first need to order the images by their timestamp."
   ]
  },
  {
   "cell_type": "code",
   "execution_count": null,
   "metadata": {},
   "outputs": [],
   "source": [
    "def get_date_taken(img):\n",
    "    try:\n",
    "        exif_data = img._getexif()\n",
    "        if 36867 in exif_data:\n",
    "            image_timestamp = exif_data[36867]\n",
    "            return image_timestamp\n",
    "        else:\n",
    "            return 0\n",
    "    except AttributeError:\n",
    "        return 0\n",
    "    except TypeError:\n",
    "        return 0"
   ]
  },
  {
   "cell_type": "code",
   "execution_count": null,
   "metadata": {},
   "outputs": [],
   "source": [
    "# Test with one image\n",
    "timestamp = get_date_taken(img)\n",
    "print(timestamp)"
   ]
  },
  {
   "cell_type": "markdown",
   "metadata": {},
   "source": [
    "Now we read the timestamp of all images in the album. If there is no timestamp in the EXIF data, we set the timestamp to 0."
   ]
  },
  {
   "cell_type": "code",
   "execution_count": null,
   "metadata": {},
   "outputs": [],
   "source": [
    "list_of_images = []\n",
    "\n",
    "i = 0\n",
    "for URL in image_URLs:\n",
    "    img = Image.open(urlopen(URL))\n",
    "    img_timestamp = get_date_taken(img)\n",
    "    image_to_add = GalleryImage(id=i, filename=URL, timestamp=img_timestamp)\n",
    "    list_of_images.append(image_to_add)\n",
    "    i += 1"
   ]
  },
  {
   "cell_type": "code",
   "execution_count": null,
   "metadata": {},
   "outputs": [],
   "source": [
    "len(list_of_images)"
   ]
  },
  {
   "cell_type": "code",
   "execution_count": null,
   "metadata": {},
   "outputs": [],
   "source": [
    "\n",
    "\n",
    "dataframe = pd.DataFrame(columns=['id', 'timestamp', 'filename'])\n",
    "\n",
    "for i, image in enumerate(list_of_images):\n",
    "    dataframe.loc[i] = image.getData()"
   ]
  },
  {
   "cell_type": "markdown",
   "metadata": {},
   "source": [
    "We save the result to a dataframe which is then saved as a .csv for later reference and faster loading of the image's information. Before saving we need to \"clean\" the data of unusable information (timestamps = 0)."
   ]
  },
  {
   "cell_type": "code",
   "execution_count": null,
   "metadata": {},
   "outputs": [],
   "source": [
    "dataframe = dataframe[dataframe.timestamp != 0]\n",
    "dataframe.reindex\n",
    "dataframe.to_csv(\"image_metadata.csv\" , decimal=\".\", sep=\";\", index=False)"
   ]
  },
  {
   "cell_type": "markdown",
   "metadata": {},
   "source": [
    "**(Re-)start from here**"
   ]
  },
  {
   "cell_type": "code",
   "execution_count": 7,
   "metadata": {},
   "outputs": [],
   "source": [
    "csv_filename = \"image_metadata.csv\"\n",
    "\n",
    "list_of_images = readImagesFromCSV(csv_filename)"
   ]
  },
  {
   "cell_type": "code",
   "execution_count": 12,
   "metadata": {},
   "outputs": [
    {
     "name": "stdout",
     "output_type": "stream",
     "text": [
      "466\n",
      "Sample image:\n",
      "{'filename': 'https://farm3.staticflickr.com/2878/33919447641_e9e2cd0b46_o.jpg', 'timestamp': 1491460363}\n"
     ]
    }
   ],
   "source": [
    "print(len(list_of_images))\n",
    "\n",
    "print(\"Sample image:\\n%s\" % (list_of_images[0].getData()))"
   ]
  },
  {
   "cell_type": "markdown",
   "metadata": {},
   "source": [
    "We have 466 usable images (93% of the original album). Now the time clustering can start:  \n",
    "1. Order the timestamp data\n",
    "2. Create time clusters with the use of novelty scores"
   ]
  },
  {
   "cell_type": "code",
   "execution_count": 14,
   "metadata": {},
   "outputs": [],
   "source": [
    "list_of_timestamps = get_list_of_timestamps(list_of_images)\n",
    "\n",
    "list_of_timestamps.sort()"
   ]
  },
  {
   "cell_type": "markdown",
   "metadata": {},
   "source": [
    "Now that we have the ordered timestamp list we can create a 2D similarity matrix with a similarity score for each timestamp combination in the list (based on *Cooper et al.*)"
   ]
  },
  {
   "cell_type": "code",
   "execution_count": 16,
   "metadata": {},
   "outputs": [],
   "source": [
    "def create_similarity_matrix(list_of_timestamps):\n",
    "\n",
    "    similarity_matrix = []\n",
    "    K = 100000\n",
    "\n",
    "    for i in range(len(list_of_timestamps)):\n",
    "        similarity_matrix.append([])\n",
    "        for j in range(len(list_of_timestamps)):\n",
    "            similarity_value = np.exp(-(abs(list_of_timestamps[i] - list_of_timestamps[j])) / K)\n",
    "            similarity_matrix[i].append(similarity_value)\n",
    "            j += 1\n",
    "        i += 1\n",
    "\n",
    "    similarity_matrix = np.array(similarity_matrix)\n",
    "\n",
    "    # Add padding of ones in the size of the kernel to correct convolution operation at the edge.\n",
    "    similarity_matrix = np.pad(similarity_matrix, (6, 6), \"constant\", constant_values = 1)\n",
    "\n",
    "    return similarity_matrix"
   ]
  },
  {
   "cell_type": "code",
   "execution_count": 17,
   "metadata": {},
   "outputs": [
    {
     "data": {
      "image/png": "[encoded data removed]",
      "text/plain": [
       "<Figure size 576x576 with 2 Axes>"
      ]
     },
     "metadata": {},
     "output_type": "display_data"
    }
   ],
   "source": [
    "similarity_matrix = create_similarity_matrix(list_of_timestamps)\n",
    "\n",
    "plt.figure(figsize=(8, 8))\n",
    "plt.imshow(similarity_matrix, cmap='gray')\n",
    "plt.colorbar()\n",
    "plt.show()"
   ]
  },
  {
   "cell_type": "markdown",
   "metadata": {},
   "source": [
    "**Novelty Score**  \n",
    "The next step is to calculate novelty scores for the similarity matrix. These can then be used to identify the edges of a time cluster. The scores are calculated by correlating a (Gaussian) checkerboard kernel along the main diagonal of the similarity matrix. A checkerboard kernel has, as the name suggests, a coarse checkerboard appereance (size 6x6):  \n",
    "\n",
    "$$ K= \\left(\\begin{matrix}1&1&1&-1&-1&-1\\\\1&1&1&-1&-1&-1\\\\1&1&1&-1&-1&-1\\\\-1&-1&-1&1&1&1\\\\-1&-1&-1&1&1&1\\\\-1&-1&-1&1&1&1\\end{matrix}\\right) $$  \n",
    "\n",
    "\n",
    "With this kernel we can detect the transitions between the white squares of the similarity matrix and therefore detect the edges of a time cluster."
   ]
  },
  {
   "cell_type": "code",
   "execution_count": 19,
   "metadata": {},
   "outputs": [
    {
     "data": {
      "image/png": "[encoded data removed]",
      "text/plain": [
       "<Figure size 432x288 with 2 Axes>"
      ]
     },
     "metadata": {},
     "output_type": "display_data"
    }
   ],
   "source": [
    "def createCheckerBoardKernel(kernel_size = 12):\n",
    "    # Creating the matrix for the kernel\n",
    "    int_size = kernel_size // 2\n",
    "    C = np.array([[1, -1],\n",
    "                  [-1, 1]])\n",
    "\n",
    "    ones = np.ones(shape=(int_size, int_size))\n",
    "\n",
    "    checkerboard_kernel = np.kron(C, ones)\n",
    "\n",
    "    if kernel_size % 2 != 0:\n",
    "        checkerboard_kernel = np.insert(checkerboard_kernel, int_size, np.array(np.zeros(shape=(1, checkerboard_kernel.shape[0]))), 0)\n",
    "        checkerboard_kernel = np.insert(checkerboard_kernel, int_size, np.array(np.zeros(shape=(1, checkerboard_kernel.shape[0]))), 1)\n",
    "\n",
    "    return checkerboard_kernel\n",
    "\n",
    "kernel_size = 12\n",
    "padding_size = kernel_size // 2\n",
    "checkerBoardKernel = createCheckerBoardKernel(kernel_size)"
   ]
  },
  {
   "cell_type": "code",
   "execution_count": 20,
   "metadata": {},
   "outputs": [],
   "source": [
    "def matlab_style_gauss2D(shape=(3,3),sigma=0.5):\n",
    "    \"\"\"\n",
    "    2D gaussian mask - should give the same result as MATLAB's\n",
    "    fspecial('gaussian',[shape],[sigma])\n",
    "    \"\"\"\n",
    "    m,n = [(ss-1.)/2. for ss in shape]\n",
    "    y,x = np.ogrid[-m:m+1,-n:n+1]\n",
    "    h = np.exp( -(x*x + y*y) / (2.*sigma*sigma) )\n",
    "    h[ h < np.finfo(h.dtype).eps*h.max() ] = 0\n",
    "    sumh = h.sum()\n",
    "    if sumh != 0:\n",
    "        h /= sumh\n",
    "    return h"
   ]
  },
  {
   "cell_type": "code",
   "execution_count": 22,
   "metadata": {},
   "outputs": [
    {
     "data": {
      "image/png": "[encoded data removed]",
      "text/plain": [
       "<Figure size 432x288 with 2 Axes>"
      ]
     },
     "metadata": {},
     "output_type": "display_data"
    },
    {
     "data": {
      "image/png": "[encoded data removed]",
      "text/plain": [
       "<Figure size 432x288 with 2 Axes>"
      ]
     },
     "metadata": {},
     "output_type": "display_data"
    },
    {
     "data": {
      "image/png": "[encoded data removed]",
      "text/plain": [
       "<Figure size 432x288 with 2 Axes>"
      ]
     },
     "metadata": {},
     "output_type": "display_data"
    }
   ],
   "source": [
    "# Smooth the kernel to avoid edge effects. Sigma is chosen in a way that the outer most pixels of the kernel are zero.\n",
    "\n",
    "plt.imshow(checkerBoardKernel, cmap='gray')\n",
    "plt.title(\"Checkerboard kernel\")\n",
    "plt.colorbar()\n",
    "plt.show()\n",
    "\n",
    "gauss_kernel = matlab_style_gauss2D(shape=(12, 12), sigma=6)\n",
    "\n",
    "plt.imshow(gauss_kernel, cmap='gray')\n",
    "plt.title(\"12x12 Gaussian kernel\")\n",
    "plt.colorbar()\n",
    "plt.show()\n",
    "\n",
    "# Creating the Gaussian checkerboard kernel that is used for the calculation of the novelty scores\n",
    "gaussian_checkerboard_kernel = np.multiply(checkerBoardKernel, gauss_kernel)\n",
    "\n",
    "plt.imshow(gaussian_checkerboard_kernel, cmap='gray')\n",
    "plt.title(\"Gaussian checkerboard kernel\")\n",
    "plt.colorbar()\n",
    "plt.show()"
   ]
  },
  {
   "cell_type": "markdown",
   "metadata": {},
   "source": [
    "Now we can calculate a novelty score for each timestamp. By applying the Gaussian checkerboard kernel we get high values when the two considered regions on each side of the checkerboard are self-similar but different from each other."
   ]
  },
  {
   "cell_type": "code",
   "execution_count": 23,
   "metadata": {},
   "outputs": [],
   "source": [
    "def calculateNoveltyScore(timestamp_index, padding_size, similarity_matrix, gaussian_checkerboard_kernel):\n",
    "\n",
    "    # Used to start from \"center\" of kernel\n",
    "    half_size = padding_size\n",
    "\n",
    "    novelty_score = 0\n",
    "\n",
    "    for row_index in range(-half_size, half_size):\n",
    "        sum_of_product = 0\n",
    "\n",
    "        for column_index in range(-half_size, half_size):\n",
    "            matrix_value = similarity_matrix[timestamp_index + row_index][timestamp_index + column_index]\n",
    "            kernel_value = gaussian_checkerboard_kernel[half_size + row_index][half_size + column_index]\n",
    "\n",
    "            product = matrix_value * kernel_value\n",
    "\n",
    "            sum_of_product += product\n",
    "        novelty_score += sum_of_product\n",
    "\n",
    "    return novelty_score"
   ]
  },
  {
   "cell_type": "code",
   "execution_count": 28,
   "metadata": {},
   "outputs": [
    {
     "name": "stdout",
     "output_type": "stream",
     "text": [
      "466\n"
     ]
    }
   ],
   "source": [
    "novelty_scores = []\n",
    "\n",
    "# Start from the new index (old first index + padding_size), end at length of diagonal of similarity matrix + padding.\n",
    "for i in range(padding_size, len(list_of_timestamps) + padding_size):\n",
    "    novelty_scores.append(calculateNoveltyScore(i, padding_size, similarity_matrix, gaussian_checkerboard_kernel))\n",
    "\n",
    "print(len(novelty_scores))\n",
    "\n",
    "# Find peaks in novelty scores:\n",
    "novelty_scores = np.asarray(novelty_scores)\n",
    "peaks, _ = find_peaks(novelty_scores, height=novelty_scores.mean())"
   ]
  },
  {
   "cell_type": "code",
   "execution_count": null,
   "metadata": {},
   "outputs": [],
   "source": [
    "# Subplot figure to visualize results\n",
    "def plotResult(similarity_matrix, novelty_scores):\n",
    "    fig, axs = plt.subplots(2, 1, sharex=\"all\", sharey=\"none\", figsize=(8, 8))\n",
    "\n",
    "    axs[0].set_title(\"Similarity Matrix\")\n",
    "    axs[0].imshow(similarity_matrix[padding_size:,padding_size:], cmap=\"gray\", aspect=\"auto\")\n",
    "    axs[0].set_xlim([0, len(timestamp_list) - 1])\n",
    "    axs[0].set_xticks(np.arange(0, len(timestamp_list), step=50))\n",
    "    axs[0].set_ylim(bottom=len(timestamp_list) - 1)\n",
    "\n",
    "    axs[1].set_title(\"Novelty scores\")\n",
    "    axs[1].plot(novelty_scores)\n",
    "    axs[1].set_xlim([0, len(timestamp_list) - 1])\n",
    "    axs[1].set_xticks(np.arange(0, len(timestamp_list), step=50))\n",
    "    axs[1].set_xlabel('Image index')\n",
    "    axs[1].set_ylim(bottom=0)\n",
    "\n",
    "    plt.show()\n",
    "\n",
    "plotResult(similarity_matrix, novelty_scores)"
   ]
  },
  {
   "cell_type": "markdown",
   "metadata": {},
   "source": [
    "Now that we have our novelty scores we can identify the edges of a temporal cluster by looking at the peaks of the diagram. Programmatically, we can identify them by calculating the difference of each novelty score."
   ]
  },
  {
   "cell_type": "code",
   "execution_count": 29,
   "metadata": {},
   "outputs": [],
   "source": [
    "def createClustersBasedOnPeaks(list_of_images, peaks):\n",
    "    list_of_clusters = []\n",
    "    image_index = 0\n",
    "    while image_index < len(list_of_images) - 1:\n",
    "        if image_index == 0:\n",
    "            temporal_cluster = []\n",
    "            temporal_cluster.append(image_index)\n",
    "        else:\n",
    "            if image_index not in peaks:\n",
    "                temporal_cluster.append(image_index)\n",
    "            else:\n",
    "                if len(list_of_clusters) == 0:\n",
    "                    list_of_clusters.append(temporal_cluster)\n",
    "                temporal_cluster = []\n",
    "                temporal_cluster.append(image_index)\n",
    "                for inner_image_index in range(image_index + 1, len(list_of_images)):\n",
    "                    if inner_image_index not in peaks:\n",
    "                        temporal_cluster.append(inner_image_index)\n",
    "\n",
    "                        # Last temporal cluster\n",
    "                        if inner_image_index == len(list_of_images) - 1:\n",
    "                            list_of_clusters.append(temporal_cluster)\n",
    "                            image_index = inner_image_index - 1\n",
    "                            break\n",
    "                    else:\n",
    "                        if len(temporal_cluster) >= 1:\n",
    "                            list_of_clusters.append(temporal_cluster)\n",
    "                        image_index = inner_image_index - 1\n",
    "                        break\n",
    "        image_index += 1\n",
    "    return list_of_clusters\n",
    "\n",
    "list_of_clusters = createClustersBasedOnPeaks(list_of_images, peaks)"
   ]
  },
  {
   "cell_type": "code",
   "execution_count": 30,
   "metadata": {},
   "outputs": [],
   "source": [
    "# To store the found temporal clusters inside a database we need custom objects\n",
    "\n",
    "def createTemporalClusterObjects(list_of_images, peaks):\n",
    "    list_of_temporal_clusters = []\n",
    "    list_of_clusters = createClustersBasedOnPeaks(list_of_images, peaks)\n",
    "    for i, cluster in enumerate(list_of_clusters):\n",
    "        timestamp_list = []\n",
    "        image_ids_list = \"\"\n",
    "        for image_id in cluster:\n",
    "            timestamp_list.append(list_of_images[image_id].timestamp)\n",
    "            if image_id != cluster[len(cluster) - 1]:\n",
    "                # As the auto-increment value for the corresponding GalleryImage in the database starts at 1 we need to\n",
    "                # increment the value by 1\n",
    "                image_ids_list += str(image_id + 1) + \",\"\n",
    "            else:\n",
    "                image_ids_list += str(image_id + 1)\n",
    "\n",
    "        timestamp_array = np.asarray(timestamp_list)\n",
    "        temporal_cluster = TemporalCluster(image_ids_list, len(cluster), int(np.median(timestamp_array)))\n",
    "        list_of_temporal_clusters.append(temporal_cluster)\n",
    "\n",
    "    return list_of_temporal_clusters"
   ]
  },
  {
   "cell_type": "code",
   "execution_count": 31,
   "metadata": {},
   "outputs": [],
   "source": [
    "temporal_clusters = createTemporalClusterObjects(list_of_images, peaks)"
   ]
  },
  {
   "cell_type": "markdown",
   "metadata": {},
   "source": [
    "The next section is for defining the database functions"
   ]
  },
  {
   "cell_type": "code",
   "execution_count": 32,
   "metadata": {},
   "outputs": [],
   "source": [
    "def loadSession():\n",
    "    db_engine = create_engine(\"sqlite:///clustering.db\")\n",
    "    Base.metadata.bind = db_engine\n",
    "    Base.metadata.create_all(db_engine)\n",
    "\n",
    "    DBSession = sessionmaker(bind=db_engine)\n",
    "    session = DBSession()\n",
    "\n",
    "    return session\n",
    "\n",
    "def saveImagesToDatabase(session, list_of_images):\n",
    "\n",
    "    session.add_all(list_of_images)\n",
    "    try:\n",
    "        session.commit()\n",
    "    except:\n",
    "        session.rollback()\n",
    "\n",
    "# TODO: When saving temporal clusters it is necessary to read and reserve the last image id in the database before adding new images. Then we can save the temporal clusters correctly.\n",
    "def saveTemporalClustersToDatabase(session, list_of_temporal_clusters):\n",
    "    session.add_all(list_of_temporal_clusters)\n",
    "    try:\n",
    "        session.commit()\n",
    "    except:\n",
    "        session.rollback()"
   ]
  },
  {
   "cell_type": "code",
   "execution_count": 34,
   "metadata": {},
   "outputs": [],
   "source": [
    "session = loadSession()\n",
    "\n",
    "saveImagesToDatabase(session, list_of_images)\n",
    "saveTemporalClustersToDatabase(session, createTemporalClusterObjects(list_of_images, peaks))"
   ]
  },
  {
   "cell_type": "code",
   "execution_count": null,
   "metadata": {},
   "outputs": [],
   "source": []
  }
 ],
 "metadata": {
  "kernelspec": {
   "display_name": "Python 3",
   "language": "python",
   "name": "python3"
  },
  "language_info": {
   "codemirror_mode": {
    "name": "ipython",
    "version": 3
   },
   "file_extension": ".py",
   "mimetype": "text/x-python",
   "name": "python",
   "nbconvert_exporter": "python",
   "pygments_lexer": "ipython3",
   "version": "3.5.2"
  }
 },
 "nbformat": 4,
 "nbformat_minor": 2
}
