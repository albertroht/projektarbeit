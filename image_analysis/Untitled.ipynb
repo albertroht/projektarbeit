{
 "cells": [
  {
   "cell_type": "code",
   "execution_count": 25,
   "metadata": {},
   "outputs": [],
   "source": [
    "import sys\n",
    "import face_scoring\n",
    "import imp\n",
    "imp.reload(face_scoring)\n",
    "from face_scoring import face_cluster\n",
    "imp.reload(face_cluster)\n",
    "from PIL import Image\n",
    "import numpy as np\n",
    "import json\n",
    "\n",
    "from IPython.display import display"
   ]
  },
  {
   "cell_type": "code",
   "execution_count": 26,
   "metadata": {},
   "outputs": [],
   "source": [
    "# image = np.array(Image.open('no_face.jpg'))\n",
    "results = face_cluster.predict('face.jpg')"
   ]
  },
  {
   "cell_type": "code",
   "execution_count": 27,
   "metadata": {},
   "outputs": [
    {
     "name": "stdout",
     "output_type": "stream",
     "text": [
      "[rectangle(1349,1647,1716,2230)]\n"
     ]
    }
   ],
   "source": [
    "print(results[0])"
   ]
  },
  {
   "cell_type": "markdown",
   "metadata": {},
   "source": [
    "## MTCNN Deep Learning Face Recognition"
   ]
  },
  {
   "cell_type": "code",
   "execution_count": 28,
   "metadata": {},
   "outputs": [
    {
     "name": "stderr",
     "output_type": "stream",
     "text": [
      "Using TensorFlow backend.\n"
     ]
    }
   ],
   "source": [
    "from mtcnn import MTCNN"
   ]
  },
  {
   "cell_type": "code",
   "execution_count": 29,
   "metadata": {},
   "outputs": [
    {
     "name": "stdout",
     "output_type": "stream",
     "text": [
      "WARNING:tensorflow:From /usr/local/lib/python3.5/dist-packages/tensorflow/python/framework/op_def_library.py:263: colocate_with (from tensorflow.python.framework.ops) is deprecated and will be removed in a future version.\n",
      "Instructions for updating:\n",
      "Colocations handled automatically by placer.\n"
     ]
    }
   ],
   "source": [
    "model = MTCNN()"
   ]
  },
  {
   "cell_type": "code",
   "execution_count": 31,
   "metadata": {},
   "outputs": [
    {
     "name": "stdout",
     "output_type": "stream",
     "text": [
      "{'box': [2185, 3060, 395, 537], 'keypoints': {'nose': (2393, 3392), 'left_eye': (2298, 3272), 'mouth_right': (2469, 3474), 'right_eye': (2470, 3272), 'mouth_left': (2307, 3472)}, 'confidence': 0.9999666213989258}\n",
      "{'box': [1285, 3138, 340, 519], 'keypoints': {'nose': (1476, 3475), 'left_eye': (1389, 3356), 'mouth_right': (1551, 3517), 'right_eye': (1558, 3360), 'mouth_left': (1379, 3514)}, 'confidence': 0.9999369382858276}\n"
     ]
    }
   ],
   "source": [
    "from matplotlib import pyplot\n",
    "filename=\"faces.jpg\"\n",
    "pixels = pyplot.imread(filename)\n",
    "faces = model.detect_faces(pixels)\n",
    "for face in faces:\n",
    "\tprint(face)"
   ]
  },
  {
   "cell_type": "code",
   "execution_count": null,
   "metadata": {},
   "outputs": [],
   "source": []
  }
 ],
 "metadata": {
  "kernelspec": {
   "display_name": "Python 3",
   "language": "python",
   "name": "python3"
  },
  "language_info": {
   "codemirror_mode": {
    "name": "ipython",
    "version": 3
   },
   "file_extension": ".py",
   "mimetype": "text/x-python",
   "name": "python",
   "nbconvert_exporter": "python",
   "pygments_lexer": "ipython3",
   "version": "3.5.2"
  }
 },
 "nbformat": 4,
 "nbformat_minor": 4
}
